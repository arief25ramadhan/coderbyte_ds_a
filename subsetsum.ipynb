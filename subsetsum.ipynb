{
 "cells": [
  {
   "cell_type": "code",
   "execution_count": 1,
   "metadata": {},
   "outputs": [],
   "source": [
    "def subset_sum_problem_help(number, hashed_array, hash_store, used):\n",
    "    if (number == 0):\n",
    "        hash_store[tuple(used)] = used\n",
    "    elif(number > 0):\n",
    "        for each in hashed_array:\n",
    "            for i in range(int(hashed_array[each])):\n",
    "                new_hashed_array = hashed_array.copy()\n",
    "                new_hashed_array[each] -= 1\n",
    "\n",
    "                new_num = number - each\n",
    "                subset_sum_problem_help(new_num, new_hashed_array, hash_store, used + [each])\n",
    "\n",
    "\n",
    "def subset_sum_problem(arr, num):\n",
    "    hash_store = {}\n",
    "    hashed_array = {}\n",
    "    for each in arr:\n",
    "        if(each not in hashed_array):\n",
    "            hashed_array[each] = 1\n",
    "        else:\n",
    "            hashed_array[each] += 1\n",
    "\n",
    "    subset_sum_problem_help(num, hashed_array, hash_store, [])\n",
    "\n",
    "    return list(hash_store.values())"
   ]
  },
  {
   "cell_type": "code",
   "execution_count": 3,
   "metadata": {},
   "outputs": [
    {
     "name": "stdout",
     "output_type": "stream",
     "text": [
      "[[1, 1, 3], [1, 3, 1], [1, 4], [2, 3], [3, 1, 1], [3, 2], [4, 1]]\n"
     ]
    }
   ],
   "source": [
    "print(subset_sum_problem([1,1,2,3,4],5))"
   ]
  },
  {
   "cell_type": "code",
   "execution_count": null,
   "metadata": {},
   "outputs": [],
   "source": []
  }
 ],
 "metadata": {
  "kernelspec": {
   "display_name": "Python 3",
   "language": "python",
   "name": "python3"
  },
  "language_info": {
   "codemirror_mode": {
    "name": "ipython",
    "version": 3
   },
   "file_extension": ".py",
   "mimetype": "text/x-python",
   "name": "python",
   "nbconvert_exporter": "python",
   "pygments_lexer": "ipython3",
   "version": "3.7.3"
  }
 },
 "nbformat": 4,
 "nbformat_minor": 2
}
