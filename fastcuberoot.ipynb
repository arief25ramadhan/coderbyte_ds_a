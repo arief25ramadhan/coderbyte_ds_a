{
 "cells": [
  {
   "cell_type": "code",
   "execution_count": 7,
   "metadata": {},
   "outputs": [],
   "source": [
    "def fastCubeRoot(num):\n",
    "    cubes_10 = [0,1,8,27,64,125,216,343,512,729]\n",
    "    first_digit=0\n",
    "    last_digit=0\n",
    "    first=int(str(num)[:3])\n",
    "    last=int(str(num)[3:])\n",
    "    \n",
    "    for k in cubes_10:\n",
    "        if k <= first:\n",
    "            first_digit = cubes_10.index(k)    \n",
    "        if cubes_10.index(k) == last%10: #when index = 2, and last =2, we see that in index 2 the number is 8\n",
    "            last_digit = k%10 #2 is also the last digit of 8 cube. Therefore we take (k=8) modulo ten, which is 8\n",
    "    \n",
    "    return (first_digit*10)+last_digit\n",
    "\n",
    "#In our case the last_digit of the cube root and the last digit of the cube is always 10\n",
    "# for example 8^3 = 512, 8 + 2(last digit of 512) = 10\n",
    "# another example 7^3 = 343, 7+3(last digit of 343) = 10"
   ]
  },
  {
   "cell_type": "code",
   "execution_count": 8,
   "metadata": {},
   "outputs": [
    {
     "name": "stdout",
     "output_type": "stream",
     "text": [
      "94\n"
     ]
    }
   ],
   "source": [
    "print(fastCubeRoot(830584))"
   ]
  },
  {
   "cell_type": "code",
   "execution_count": 9,
   "metadata": {},
   "outputs": [
    {
     "name": "stdout",
     "output_type": "stream",
     "text": [
      "93\n"
     ]
    }
   ],
   "source": [
    "print(fastCubeRoot(804357))"
   ]
  },
  {
   "cell_type": "code",
   "execution_count": null,
   "metadata": {},
   "outputs": [],
   "source": []
  }
 ],
 "metadata": {
  "kernelspec": {
   "display_name": "Python 3",
   "language": "python",
   "name": "python3"
  },
  "language_info": {
   "codemirror_mode": {
    "name": "ipython",
    "version": 3
   },
   "file_extension": ".py",
   "mimetype": "text/x-python",
   "name": "python",
   "nbconvert_exporter": "python",
   "pygments_lexer": "ipython3",
   "version": "3.7.3"
  }
 },
 "nbformat": 4,
 "nbformat_minor": 2
}
