{
 "cells": [
  {
   "cell_type": "markdown",
   "metadata": {},
   "source": [
    "# Problem\n",
    "\n",
    "Print all possible balanced parenthesis combinations up to N\n",
    "For example:\n",
    "    \n",
    "N = 2  \n",
    "(()), ()()\n",
    "\n",
    "N = 3  \n",
    "((())), (()()), (())(), ()(()), ()()()\n",
    "\n",
    "# Solution\n",
    "\n",
    "Recursive:  \n",
    "(1) Add a left bracket to a newly created string.  \n",
    "(2) If a left bracket was added, potentially add a new left bracket and add a right bracket.  \n",
    "(3) After each of these steps we add the string to an array that stores all bracket combinations. \n",
    "\n",
    "Space complexity: O(n*2)\n"
   ]
  },
  {
   "cell_type": "markdown",
   "metadata": {},
   "source": [
    "3 Keys to Bactracking:\n",
    "1. Our choice: place a \"(\" or \")\"\n",
    "2. Our constraints: we cannot close before we open. Our count of left opens matters\n",
    "3. Our goal: n*2 placement. In n =3, if we have three lefts \"(((\" we gonna close it with three rights \")))\". \n"
   ]
  },
  {
   "cell_type": "code",
   "execution_count": 43,
   "metadata": {},
   "outputs": [],
   "source": [
    "def bracket(left, right, string):\n",
    "    if(left == 0 & right == 0):\n",
    "        return string\n",
    "    if(right>0):\n",
    "        return bracket(left, right-1, string+\")\")\n",
    "    if(left>0):\n",
    "        print(left, right)\n",
    "        return bracket(left-1, right+1, string+\"(\")\n",
    "    "
   ]
  },
  {
   "cell_type": "code",
   "execution_count": 44,
   "metadata": {},
   "outputs": [
    {
     "name": "stdout",
     "output_type": "stream",
     "text": [
      "3 0\n",
      "inside\n",
      "2 0\n",
      "inside\n",
      "1 0\n",
      "()()(\n"
     ]
    }
   ],
   "source": [
    "print(bracket(3, 0, \"\"))"
   ]
  },
  {
   "cell_type": "code",
   "execution_count": null,
   "metadata": {},
   "outputs": [],
   "source": []
  }
 ],
 "metadata": {
  "kernelspec": {
   "display_name": "Python 3",
   "language": "python",
   "name": "python3"
  },
  "language_info": {
   "codemirror_mode": {
    "name": "ipython",
    "version": 3
   },
   "file_extension": ".py",
   "mimetype": "text/x-python",
   "name": "python",
   "nbconvert_exporter": "python",
   "pygments_lexer": "ipython3",
   "version": "3.7.3"
  }
 },
 "nbformat": 4,
 "nbformat_minor": 2
}
