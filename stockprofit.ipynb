{
 "cells": [
  {
   "cell_type": "code",
   "execution_count": 1,
   "metadata": {},
   "outputs": [],
   "source": [
    "def stockExchange(stockPrices):\n",
    "    buy = stockPrices[0] \n",
    "    sell = 0\n",
    "    profit = -1\n",
    "    \n",
    "    for n in range(0,len(stockPrices)-1):\n",
    "        x = stockPrices[n]\n",
    "        if x < buy:\n",
    "            buy = x\n",
    "            sell = 0\n",
    "        elif x > sell:\n",
    "            sell = x\n",
    "            profit = sell - buy\n",
    "    return profit"
   ]
  },
  {
   "cell_type": "code",
   "execution_count": 2,
   "metadata": {},
   "outputs": [
    {
     "name": "stdout",
     "output_type": "stream",
     "text": [
      "16\n"
     ]
    }
   ],
   "source": [
    "print(stockExchange([45, 24, 35, 31, 40, 38, 11]))"
   ]
  },
  {
   "cell_type": "code",
   "execution_count": null,
   "metadata": {},
   "outputs": [],
   "source": []
  }
 ],
 "metadata": {
  "kernelspec": {
   "display_name": "Python 3",
   "language": "python",
   "name": "python3"
  },
  "language_info": {
   "codemirror_mode": {
    "name": "ipython",
    "version": 3
   },
   "file_extension": ".py",
   "mimetype": "text/x-python",
   "name": "python",
   "nbconvert_exporter": "python",
   "pygments_lexer": "ipython3",
   "version": "3.7.3"
  }
 },
 "nbformat": 4,
 "nbformat_minor": 2
}
