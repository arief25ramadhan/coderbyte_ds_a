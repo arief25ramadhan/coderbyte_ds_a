{
 "cells": [
  {
   "cell_type": "markdown",
   "metadata": {},
   "source": [
    "# Problem\n",
    "Find the middle element of a linked list\n",
    "\n",
    "# Solution\n",
    "\n",
    "We will setup two pointers; one that will traverse the linked list one node at a time, and another that will traverse two nodes at a time. This way when the faster pointer reaches the end of the linked list, the slower pointer will be halfway there because it was only moving one node at time while the faster one was moving two nodes at a time. This allows us to find the middle node of a linked list with only one pass, instead of passing through the whole linked list once, and then again to find the middle element.\n",
    "\n",
    "## Note\n",
    "The problem and solution are from: https://coderbyte.com/algorithm/linked-list-middle-element"
   ]
  },
  {
   "cell_type": "code",
   "execution_count": 3,
   "metadata": {},
   "outputs": [],
   "source": [
    "class Node:\n",
    "    def __init__(self, data, next):\n",
    "        self.data = data\n",
    "        self.next = next"
   ]
  },
  {
   "cell_type": "code",
   "execution_count": 8,
   "metadata": {},
   "outputs": [],
   "source": [
    "n1 = Node(\"Hello\", None)\n",
    "n2 = Node(\"World\", n1)\n",
    "n3 = Node(\"Mid\", n2)\n",
    "n4 = Node(\"Right\", n3)\n",
    "n5 = Node(\"There\", n4)\n",
    "head = n5\n",
    "fastPointer = head\n",
    "slowPointer = head"
   ]
  },
  {
   "cell_type": "code",
   "execution_count": 9,
   "metadata": {},
   "outputs": [
    {
     "name": "stdout",
     "output_type": "stream",
     "text": [
      "Mid\n"
     ]
    }
   ],
   "source": [
    "while fastPointer.next != None and fastPointer.next.next != None:\n",
    "    fastPointer = fastPointer.next.next\n",
    "    slowPointer = slowPointer.next\n",
    "\n",
    "print(slowPointer.data)"
   ]
  },
  {
   "cell_type": "code",
   "execution_count": null,
   "metadata": {},
   "outputs": [],
   "source": []
  },
  {
   "cell_type": "code",
   "execution_count": null,
   "metadata": {},
   "outputs": [],
   "source": []
  }
 ],
 "metadata": {
  "kernelspec": {
   "display_name": "Python 3",
   "language": "python",
   "name": "python3"
  },
  "language_info": {
   "codemirror_mode": {
    "name": "ipython",
    "version": 3
   },
   "file_extension": ".py",
   "mimetype": "text/x-python",
   "name": "python",
   "nbconvert_exporter": "python",
   "pygments_lexer": "ipython3",
   "version": "3.7.3"
  }
 },
 "nbformat": 4,
 "nbformat_minor": 2
}
