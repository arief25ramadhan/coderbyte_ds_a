{
 "cells": [
  {
   "cell_type": "markdown",
   "metadata": {},
   "source": [
    "# Problem\n",
    "\n",
    "Determining if a binary tree is a subtree within a larger tree\n",
    "\n",
    "# Solution\n"
   ]
  },
  {
   "cell_type": "code",
   "execution_count": 2,
   "metadata": {},
   "outputs": [
    {
     "name": "stdout",
     "output_type": "stream",
     "text": [
      "26(10(4(,30),6),3(,3)) 10(4(,30),6)\n",
      "True\n"
     ]
    }
   ],
   "source": [
    "class node:\n",
    "    def __init__(self,value):\n",
    "        self.value=value\n",
    "        self.rightChild=None\n",
    "        self.leftChild=None\n",
    "    \n",
    "    def addLeftChild(self,node_c):\n",
    "        self.leftChild=node_c\n",
    "        \n",
    "    def addrightChild(self,node_c):\n",
    "        self.rightChild=node_c\n",
    "    \n",
    "    def tree_to_string(self):\n",
    "        if self.leftChild==None and self.rightChild==None:\n",
    "            return str(self.value)\n",
    "        if self.leftChild==None and self.rightChild!=None:\n",
    "            return str(self.value)+'('+','+self.rightChild.tree_to_string()+')'\n",
    "        if self.leftChild!=None and self.rightChild==None:\n",
    "            return str(self.value)+'('+self.leftChild.tree_to_string()+','+')'\n",
    "        return str(self.value)+'('+self.leftChild.tree_to_string()+','+self.rightChild.tree_to_string()+')'\n",
    "    \n",
    "def checkSubtree(tree1,tree2):\n",
    "    str1=tree1.tree_to_string()\n",
    "    str2=tree2.tree_to_string()\n",
    "    print(str1,str2)\n",
    "    if str2 in str1:\n",
    "        return True\n",
    "    else:\n",
    "        return False\n",
    "\n",
    "if __name__ == '__main__':\n",
    "    tree1 = node(26)\n",
    "    tree1.addrightChild(node(3))\n",
    "    tree1.addLeftChild(node(10))\n",
    "    tree1.rightChild.addrightChild(node(3))\n",
    "    tree1.leftChild.addrightChild(node(6))\n",
    "    tree1.leftChild.addLeftChild(node(4))\n",
    "    tree1.leftChild.leftChild.addrightChild(node(30))\n",
    "    \n",
    "    tree2=node(10)\n",
    "    tree2.addrightChild(node(6))\n",
    "    tree2.addLeftChild(node(4))\n",
    "    tree2.leftChild.addrightChild(node(30))\n",
    "\n",
    "    isSub=checkSubtree(tree1,tree2)\n",
    "    print(isSub)"
   ]
  },
  {
   "cell_type": "code",
   "execution_count": null,
   "metadata": {},
   "outputs": [],
   "source": []
  }
 ],
 "metadata": {
  "kernelspec": {
   "display_name": "Python 3",
   "language": "python",
   "name": "python3"
  },
  "language_info": {
   "codemirror_mode": {
    "name": "ipython",
    "version": 3
   },
   "file_extension": ".py",
   "mimetype": "text/x-python",
   "name": "python",
   "nbconvert_exporter": "python",
   "pygments_lexer": "ipython3",
   "version": "3.7.3"
  }
 },
 "nbformat": 4,
 "nbformat_minor": 2
}
