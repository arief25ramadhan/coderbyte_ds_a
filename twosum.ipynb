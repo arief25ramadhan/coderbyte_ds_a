{
 "cells": [
  {
   "cell_type": "markdown",
   "metadata": {},
   "source": [
    "# Problem\n",
    "Find all the pairs of two integers in an unsorted array that sum up to a given S. \n",
    "\n",
    "# Solution\n",
    "* Naive\n",
    "* Faster"
   ]
  },
  {
   "cell_type": "markdown",
   "metadata": {},
   "source": [
    "# Naive\n",
    "\n",
    "A naive approach to this problem would be to loop through each number and then loop again through the array looking for a pair that sums to S. The running time for the below solution would be O(n2) because in the worst case we are looping through the array twice to find a pair. "
   ]
  },
  {
   "cell_type": "code",
   "execution_count": 17,
   "metadata": {},
   "outputs": [],
   "source": [
    "def twoSum(arr, S):\n",
    "    sums = []\n",
    "    pointer = 0\n",
    "    for i in arr: #i is item in array\n",
    "        pointer+=1\n",
    "        left = arr[pointer:]\n",
    "        for j in left: # j is remaining item in array (exclude i)\n",
    "            if (i+j)==S:\n",
    "                sums.append([i,j])\n",
    "    print(sums)"
   ]
  },
  {
   "cell_type": "code",
   "execution_count": 18,
   "metadata": {},
   "outputs": [
    {
     "name": "stdout",
     "output_type": "stream",
     "text": [
      "[[-3, 10], [5, 2], [-4, 11]]\n"
     ]
    }
   ],
   "source": [
    "twoSum([-3, 5, 2, -4, 10, 11], 7)"
   ]
  }
 ],
 "metadata": {
  "kernelspec": {
   "display_name": "Python 3",
   "language": "python",
   "name": "python3"
  },
  "language_info": {
   "codemirror_mode": {
    "name": "ipython",
    "version": 3
   },
   "file_extension": ".py",
   "mimetype": "text/x-python",
   "name": "python",
   "nbconvert_exporter": "python",
   "pygments_lexer": "ipython3",
   "version": "3.7.3"
  }
 },
 "nbformat": 4,
 "nbformat_minor": 2
}
